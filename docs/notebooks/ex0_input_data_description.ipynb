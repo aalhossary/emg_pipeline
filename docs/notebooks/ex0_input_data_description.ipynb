{
 "cells": [
  {
   "cell_type": "markdown",
   "metadata": {
    "id": "yHQ14ntqEaGs"
   },
   "source": [
    "[![Open In Colab](https://colab.research.google.com/assets/colab-badge.svg)](https://colab.research.google.com/github/aalhossary/pyemgpipeline/blob/master/docs/notebooks/ex0_input_data_description.ipynb)"
   ]
  },
  {
   "cell_type": "markdown",
   "metadata": {
    "id": "Lj9p-iOusNVd",
    "tags": []
   },
   "source": [
    "# Example 0 - Input data description"
   ]
  },
  {
   "cell_type": "markdown",
   "metadata": {
    "id": "s2T2BkTAsNVi"
   },
   "source": [
    "This notebook introduces the input data format needed to feed in classes [EMGMeasurement](https://aalhossary.github.io/pyemgpipeline/api/pyemgpipeline.wrappers.html#emgmeasurement), [EMGMeasurementCollection](https://aalhossary.github.io/pyemgpipeline/api/pyemgpipeline.wrappers.html#emgmeasurementcollection), and [DataProcessingManager](https://aalhossary.github.io/pyemgpipeline/api/pyemgpipeline.wrappers.html#dataprocessingmanager) to process the EMG signals.\n",
    "\n",
    "The data in this package is saved as numpy arrays. Converting raw data from different types of files into numpy arrays is also discussed in this notebook."
   ]
  },
  {
   "cell_type": "code",
   "execution_count": 1,
   "metadata": {
    "executionInfo": {
     "elapsed": 30,
     "status": "ok",
     "timestamp": 1648736663173,
     "user": {
      "displayName": "Tsung-Lin Wu",
      "userId": "08812001621921766841"
     },
     "user_tz": -480
    },
    "id": "umE1jtvWvzzd"
   },
   "outputs": [],
   "source": [
    "import numpy as np"
   ]
  },
  {
   "cell_type": "markdown",
   "metadata": {
    "id": "GiNwQfRcMX25"
   },
   "source": [
    "## Input data format of single trial"
   ]
  },
  {
   "cell_type": "markdown",
   "metadata": {
    "id": "BpOKNZveMgdU"
   },
   "source": [
    "### Signal data of one channel"
   ]
  },
  {
   "cell_type": "markdown",
   "metadata": {
    "id": "7gQXkhviMkPl"
   },
   "source": [
    "Signal data of the trial which has one channel should be stored in either\n",
    "(a) a 1d ndarray with shape (n_samples,) or (b) a 2d ndarray with shape (n_samples, 1).\n",
    "\n",
    "Here is a sample data in a 1d ndarray with shape (n_samples,), where n_samples is 20."
   ]
  },
  {
   "cell_type": "code",
   "execution_count": 2,
   "metadata": {
    "colab": {
     "base_uri": "https://localhost:8080/"
    },
    "executionInfo": {
     "elapsed": 30,
     "status": "ok",
     "timestamp": 1648736663174,
     "user": {
      "displayName": "Tsung-Lin Wu",
      "userId": "08812001621921766841"
     },
     "user_tz": -480
    },
    "id": "VzPBZTM0NYHz",
    "outputId": "0947c351-6504-417a-eca9-f2b6cdc524e0"
   },
   "outputs": [
    {
     "name": "stdout",
     "output_type": "stream",
     "text": [
      "(20,)\n"
     ]
    },
    {
     "data": {
      "text/plain": [
       "array([ 20.3,  41. ,  53.9,  63.3,  39.5,  24.9,  26.1,  24. ,  44.1,\n",
       "        42. ,  37.4,  24.6, -21.8, -56.3, -48.1, -45. , -29.1,  -9.6,\n",
       "         5.3,   1.4])"
      ]
     },
     "execution_count": 2,
     "metadata": {},
     "output_type": "execute_result"
    }
   ],
   "source": [
    "data = np.array([20.3, 41.0, 53.9, 63.3, 39.5, 24.9, 26.1, 24.0, 44.1, 42.0,\n",
    "                 37.4, 24.6, -21.8, -56.3, -48.1, -45.0, -29.1, -9.6, 5.3, 1.4])\n",
    "print(data.shape)\n",
    "data"
   ]
  },
  {
   "cell_type": "markdown",
   "metadata": {
    "id": "QcKu-Oc7OvgX"
   },
   "source": [
    "Here is a sample data in a 2d ndarray with shape (n_samples, 1), where n_samples is 20."
   ]
  },
  {
   "cell_type": "code",
   "execution_count": 3,
   "metadata": {
    "colab": {
     "base_uri": "https://localhost:8080/"
    },
    "executionInfo": {
     "elapsed": 29,
     "status": "ok",
     "timestamp": 1648736663175,
     "user": {
      "displayName": "Tsung-Lin Wu",
      "userId": "08812001621921766841"
     },
     "user_tz": -480
    },
    "id": "DIKHoiHpNoJj",
    "outputId": "f38e8067-41a3-496f-bb60-d16128afec69"
   },
   "outputs": [
    {
     "name": "stdout",
     "output_type": "stream",
     "text": [
      "(20, 1)\n"
     ]
    },
    {
     "data": {
      "text/plain": [
       "array([[ 20.3],\n",
       "       [ 41. ],\n",
       "       [ 53.9],\n",
       "       [ 63.3],\n",
       "       [ 39.5],\n",
       "       [ 24.9],\n",
       "       [ 26.1],\n",
       "       [ 24. ],\n",
       "       [ 44.1],\n",
       "       [ 42. ],\n",
       "       [ 37.4],\n",
       "       [ 24.6],\n",
       "       [-21.8],\n",
       "       [-56.3],\n",
       "       [-48.1],\n",
       "       [-45. ],\n",
       "       [-29.1],\n",
       "       [ -9.6],\n",
       "       [  5.3],\n",
       "       [  1.4]])"
      ]
     },
     "execution_count": 3,
     "metadata": {},
     "output_type": "execute_result"
    }
   ],
   "source": [
    "data = np.array([[20.3], [41.0], [53.9], [63.3], [39.5], [24.9], [26.1], [24.0], [44.1], [42.0],\n",
    "                 [37.4], [24.6], [-21.8], [-56.3], [-48.1], [-45.0], [-29.1], [-9.6], [ 5.3], [ 1.4]])\n",
    "print(data.shape)\n",
    "data"
   ]
  },
  {
   "cell_type": "markdown",
   "metadata": {
    "id": "EN6hdx7LO4_M"
   },
   "source": [
    "### Signal data of multiple channels"
   ]
  },
  {
   "cell_type": "markdown",
   "metadata": {
    "id": "Wm9ziID1O5BW"
   },
   "source": [
    "Signal data of the trial should be stored in a 2d ndarray with shape (n_samples, n_channels).\n",
    "\n",
    "Here is a sample data in a 2d ndarray with shape (n_samples, n_channels), where n_samples is 20 and n_channels is 2."
   ]
  },
  {
   "cell_type": "code",
   "execution_count": 4,
   "metadata": {
    "colab": {
     "base_uri": "https://localhost:8080/"
    },
    "executionInfo": {
     "elapsed": 26,
     "status": "ok",
     "timestamp": 1648736663176,
     "user": {
      "displayName": "Tsung-Lin Wu",
      "userId": "08812001621921766841"
     },
     "user_tz": -480
    },
    "id": "_KpMxuLHNYKF",
    "outputId": "bf068355-ae20-4e8e-a1cc-b3dffac83b20"
   },
   "outputs": [
    {
     "name": "stdout",
     "output_type": "stream",
     "text": [
      "(20, 2)\n"
     ]
    },
    {
     "data": {
      "text/plain": [
       "array([[ 20.3,   1.1],\n",
       "       [ 41. ,   2.9],\n",
       "       [ 53.9,   1.4],\n",
       "       [ 63.3,  -0.2],\n",
       "       [ 39.5,   4.4],\n",
       "       [ 24.9,   7.2],\n",
       "       [ 26.1,   9.9],\n",
       "       [ 24. ,  19.1],\n",
       "       [ 44.1,  14.2],\n",
       "       [ 42. ,  18.8],\n",
       "       [ 37.4,  17.2],\n",
       "       [ 24.6,  17.9],\n",
       "       [-21.8,  11.1],\n",
       "       [-56.3,  13.9],\n",
       "       [-48.1,  15.4],\n",
       "       [-45. ,  19.4],\n",
       "       [-29.1,  12.1],\n",
       "       [ -9.6,  16.9],\n",
       "       [  5.3,  12.4],\n",
       "       [  1.4,   9. ]])"
      ]
     },
     "execution_count": 4,
     "metadata": {},
     "output_type": "execute_result"
    }
   ],
   "source": [
    "data = np.array([[20.3, 1.1], [41.0, 2.9], [53.9, 1.4], [63.3, -0.2], [39.5, 4.4],\n",
    "                 [24.9, 7.2], [26.1, 9.9], [24.0, 19.1], [44.1, 14.2], [42.0, 18.8],\n",
    "                 [37.4, 17.2], [24.6, 17.9], [-21.8, 11.1], [-56.3, 13.9], [-48.1, 15.4],\n",
    "                 [-45.0, 19.4], [-29.1, 12.1], [-9.6, 16.9], [5.3, 12.4], [1.4, 9.0]])\n",
    "print(data.shape)\n",
    "data"
   ]
  },
  {
   "cell_type": "markdown",
   "metadata": {
    "id": "eno3fq_kYlaY"
   },
   "source": [
    "### Timestamp data"
   ]
  },
  {
   "cell_type": "markdown",
   "metadata": {
    "id": "y8vNXEwJbrAj"
   },
   "source": [
    "If given by the users, timestamp data of the trial should be stored in a 1d ndarray with shape (n_samples,).\n",
    "\n",
    "Here is a sample data in a 1d ndarray with shape (n_samples,), where n_samples is 20."
   ]
  },
  {
   "cell_type": "code",
   "execution_count": 5,
   "metadata": {
    "colab": {
     "base_uri": "https://localhost:8080/"
    },
    "executionInfo": {
     "elapsed": 25,
     "status": "ok",
     "timestamp": 1648736663177,
     "user": {
      "displayName": "Tsung-Lin Wu",
      "userId": "08812001621921766841"
     },
     "user_tz": -480
    },
    "id": "nmvVKdJJYo1q",
    "outputId": "229df161-34b4-4039-af30-b6295e92e457"
   },
   "outputs": [
    {
     "name": "stdout",
     "output_type": "stream",
     "text": [
      "(20,)\n"
     ]
    },
    {
     "data": {
      "text/plain": [
       "array([0.   , 0.001, 0.002, 0.003, 0.004, 0.005, 0.006, 0.007, 0.008,\n",
       "       0.009, 0.01 , 0.011, 0.012, 0.013, 0.014, 0.015, 0.016, 0.017,\n",
       "       0.018, 0.019])"
      ]
     },
     "execution_count": 5,
     "metadata": {},
     "output_type": "execute_result"
    }
   ],
   "source": [
    "timestamp = np.array([0.000, 0.001, 0.002, 0.003, 0.004, 0.005, 0.006, 0.007, 0.008, 0.009,\n",
    "                      0.010, 0.011, 0.012, 0.013, 0.014, 0.015, 0.016, 0.017, 0.018, 0.019])\n",
    "print(timestamp.shape)\n",
    "timestamp"
   ]
  },
  {
   "cell_type": "markdown",
   "metadata": {
    "id": "r-yfM7ayc0kc"
   },
   "source": [
    "Timestamps are not required to start from 0 or be equally spaced. Its values come from the actual data.\n",
    "\n",
    "For example, the following timestamps are valid."
   ]
  },
  {
   "cell_type": "code",
   "execution_count": 6,
   "metadata": {
    "executionInfo": {
     "elapsed": 23,
     "status": "ok",
     "timestamp": 1648736663178,
     "user": {
      "displayName": "Tsung-Lin Wu",
      "userId": "08812001621921766841"
     },
     "user_tz": -480
    },
    "id": "nO10AYPXYo4Q"
   },
   "outputs": [],
   "source": [
    "timestamp = np.array([0.006, 0.007, 0.008, 0.009, 0.010, 0.011, 0.012, 0.013, 0.014, 0.015,\n",
    "                      0.016, 0.017, 0.018, 0.019, 0.020, 0.021, 0.022, 0.023, 0.024, 0.025])"
   ]
  },
  {
   "cell_type": "code",
   "execution_count": 7,
   "metadata": {
    "executionInfo": {
     "elapsed": 23,
     "status": "ok",
     "timestamp": 1648736663178,
     "user": {
      "displayName": "Tsung-Lin Wu",
      "userId": "08812001621921766841"
     },
     "user_tz": -480
    },
    "id": "aKdPl_R8dS4N"
   },
   "outputs": [],
   "source": [
    "timestamp = np.array([0.002, 0.007, 0.008, 0.009, 0.010, 0.011, 0.012, 0.013, 0.014, 0.015,\n",
    "                      0.016, 0.017, 0.018, 0.019, 0.020, 0.021, 0.022, 0.023, 0.024, 0.025])"
   ]
  },
  {
   "cell_type": "markdown",
   "metadata": {
    "id": "IB2PO7hYeW6g"
   },
   "source": [
    "If the users do not give the values of timestamp, they will be generated starting from 0 and in increments of 1/hz, where hz is the given sample frequency.\n",
    "\n",
    "For example, when n_samples is 20 and hz is 1000, timestamp will be as the following by default."
   ]
  },
  {
   "cell_type": "code",
   "execution_count": 8,
   "metadata": {
    "executionInfo": {
     "elapsed": 22,
     "status": "ok",
     "timestamp": 1648736663178,
     "user": {
      "displayName": "Tsung-Lin Wu",
      "userId": "08812001621921766841"
     },
     "user_tz": -480
    },
    "id": "kYQbKIfpdS6K"
   },
   "outputs": [],
   "source": [
    "timestamp = np.array([0.000, 0.001, 0.002, 0.003, 0.004, 0.005, 0.006, 0.007, 0.008, 0.009,\n",
    "                      0.010, 0.011, 0.012, 0.013, 0.014, 0.015, 0.016, 0.017, 0.018, 0.019])"
   ]
  },
  {
   "cell_type": "markdown",
   "metadata": {
    "id": "cBhS2F5isNV2"
   },
   "source": [
    "## Input data format of multiple trials"
   ]
  },
  {
   "cell_type": "markdown",
   "metadata": {
    "id": "FznVOs7ugloG"
   },
   "source": [
    "Signal data of multiple trials are organized into a list, in which each element is the signal data of one trial and its format follows the format of single trial described in the previous section.\n",
    "\n",
    "Here is a sample data of 3 trials, and the signal data in each trial has 2 channels and 18, 22, 19 samples respectively."
   ]
  },
  {
   "cell_type": "code",
   "execution_count": 9,
   "metadata": {
    "colab": {
     "base_uri": "https://localhost:8080/"
    },
    "executionInfo": {
     "elapsed": 22,
     "status": "ok",
     "timestamp": 1648736663179,
     "user": {
      "displayName": "Tsung-Lin Wu",
      "userId": "08812001621921766841"
     },
     "user_tz": -480
    },
    "id": "bepdnU5TPbDc",
    "outputId": "8966619a-3e1d-45a6-c0c2-c62c030ce64a"
   },
   "outputs": [
    {
     "name": "stdout",
     "output_type": "stream",
     "text": [
      "Number of trials = 3\n",
      "Shape of signal data of trial 0 is (18, 2)\n",
      "Shape of signal data of trial 1 is (22, 2)\n",
      "Shape of signal data of trial 2 is (19, 2)\n"
     ]
    }
   ],
   "source": [
    "all_data = [np.array([[8.698, -9.613], [7.172, -2.594], [3.51, -5.951], [8.087, -2.899], [5.035, -2.289],\n",
    "                      [10.529, -0.763], [-2.289, 4.73], [4.12, 1.068], [0.153, -4.12], [12.665, -9.918],\n",
    "                      [9.613, -7.782], [15.106, -9.918], [9.003, -12.665], [7.477, -22.43], [2.899, -10.223],\n",
    "                      [5.646, -11.749], [-5.646, -8.698], [1.373, -9.918]]),\n",
    "            np.array([[3.51, -5.951], [10.529, -7.172], [13.275, -8.087], [11.444, -13.275], [12.054, -13.275],\n",
    "                      [11.139, -6.561], [9.308, -7.782], [8.087, -7.477], [18.463, -1.068], [1.984, -4.12],\n",
    "                      [-14.801, -12.97], [-21.21, -10.834], [-27.313, 7.477], [-42.878, -5.646], [-42.573, -5.646],\n",
    "                      [-35.859, -9.613], [-42.268, -10.834], [-23.041, -10.529], [-16.022, -9.613], [-12.97, -11.749],\n",
    "                      [3.204, -5.951], [6.866, -6.866]]),\n",
    "            np.array([[-9.613, -12.665], [-22.125, -16.937], [-23.346, -11.749], [-42.268, -8.087], [-53.864, -9.613],\n",
    "                      [-41.047, -7.477], [-27.924, -16.632], [-28.839, -8.698], [-19.684, -8.392], [-17.242, -4.73],\n",
    "                      [6.866, -8.698], [37.995, 3.204], [78.279, -3.815], [102.694, -3.204], [132.296, -9.003],\n",
    "                      [141.756, -9.308], [113.375, -4.12], [102.388, -12.97], [86.823, -6.866]])]\n",
    "print(f'Number of trials = {len(all_data)}')\n",
    "for k in range(len(all_data)):\n",
    "  print(f'Shape of signal data of trial {k} is {all_data[k].shape}')"
   ]
  },
  {
   "cell_type": "markdown",
   "metadata": {
    "id": "hXrkqvY7rlK3"
   },
   "source": [
    "If given, timestamp data of multiple trials are organized into a list, in which each element is the timestamp data of one trial and its format follows the format of single trial described in the previous section.\n",
    "\n",
    "Here is a sample data of 3 trials, and the timestamp data in each trial has 18, 22, 19 samples respectively."
   ]
  },
  {
   "cell_type": "code",
   "execution_count": 10,
   "metadata": {
    "colab": {
     "base_uri": "https://localhost:8080/"
    },
    "executionInfo": {
     "elapsed": 20,
     "status": "ok",
     "timestamp": 1648736663180,
     "user": {
      "displayName": "Tsung-Lin Wu",
      "userId": "08812001621921766841"
     },
     "user_tz": -480
    },
    "id": "xCCFLUCWqpL7",
    "outputId": "a1833efa-e92f-470c-bf65-ce2afbf7814f"
   },
   "outputs": [
    {
     "name": "stdout",
     "output_type": "stream",
     "text": [
      "Number of trials = 3\n",
      "Shape of timestamp data of trial 0 is (18,)\n",
      "Shape of timestamp data of trial 1 is (22,)\n",
      "Shape of timestamp data of trial 2 is (19,)\n"
     ]
    }
   ],
   "source": [
    "all_timestamp = [np.array([0.000, 0.001, 0.002, 0.003, 0.004, 0.005, 0.006, 0.007, 0.008, 0.009,\n",
    "                           0.010, 0.011, 0.012, 0.013, 0.014, 0.015, 0.016, 0.017]),\n",
    "                 np.array([0.000, 0.001, 0.002, 0.003, 0.004, 0.005, 0.006, 0.007, 0.008, 0.009,\n",
    "                           0.010, 0.011, 0.012, 0.013, 0.014, 0.015, 0.016, 0.017, 0.018, 0.019,\n",
    "                           0.020, 0.021]),\n",
    "                 np.array([0.000, 0.001, 0.002, 0.003, 0.004, 0.005, 0.006, 0.007, 0.008, 0.009,\n",
    "                           0.010, 0.011, 0.012, 0.013, 0.014, 0.015, 0.016, 0.017, 0.018])]\n",
    "print(f'Number of trials = {len(all_timestamp)}')\n",
    "for k in range(len(all_timestamp)):\n",
    "  print(f'Shape of timestamp data of trial {k} is {all_timestamp[k].shape}')"
   ]
  },
  {
   "cell_type": "markdown",
   "metadata": {
    "id": "9p71CMsVmsDW"
   },
   "source": [
    "## Coverting raw data from files into numpy array"
   ]
  },
  {
   "cell_type": "markdown",
   "metadata": {
    "id": "nbe6PFymtOVM"
   },
   "source": [
    "### Raw data in structured format"
   ]
  },
  {
   "cell_type": "markdown",
   "metadata": {
    "id": "J0ikDFRjtpLu"
   },
   "source": [
    "If the raw data files are structured text file, for example, in csv format, then the users can use the function [numpy.genfromtxt](https://numpy.org/doc/stable/reference/generated/numpy.genfromtxt.html) to load the files into numpy arrays.\n",
    "\n",
    "[Example 3](https://aalhossary.github.io/pyemgpipeline/notebooks/ex3_DataProcessingManager.html) loads the data with numpy.genfromtxt."
   ]
  },
  {
   "cell_type": "markdown",
   "metadata": {
    "id": "5JY3r52wu-Hz"
   },
   "source": [
    "If the raw data files are MATLAB files (i.e., .mat), then the users can use the function [scipy.io.loadmat](https://docs.scipy.org/doc/scipy/reference/generated/scipy.io.loadmat.html) to load the files into numpy arrays.\n",
    "\n",
    "[Example 4](https://aalhossary.github.io/pyemgpipeline/notebooks/ex4_DataProcessingManager.html) loads the data with scipy.io.loadmat."
   ]
  },
  {
   "cell_type": "markdown",
   "metadata": {
    "id": "RfAUKdjlQ4h7"
   },
   "source": [
    "After the data is loaded from a file, if not the whole data is needed, [indexing on ndarrays](https://numpy.org/doc/stable/user/basics.indexing.html) can be used to extract the needed parts of the data."
   ]
  },
  {
   "cell_type": "markdown",
   "metadata": {
    "id": "qWMJ0xJctQt8"
   },
   "source": [
    "### Raw data in a more free format"
   ]
  },
  {
   "cell_type": "markdown",
   "metadata": {
    "id": "kxYFNfucOkNv"
   },
   "source": [
    "If the raw data files are in a more free format, the users can use Python's [io module](https://docs.python.org/3/library/io.html) to open files and extract the signal (and timestamp) data according to the structure of each individual file.\n",
    "\n",
    "For example, the data sample below shows that there are several header lines in the beginning of the file. Handling this type of data is shown in [Example 1](https://aalhossary.github.io/pyemgpipeline/notebooks/ex1_EMGMeasurement.html) and [Example 2](https://aalhossary.github.io/pyemgpipeline/notebooks/ex2_EMGMeasurementCollection.html)."
   ]
  },
  {
   "cell_type": "markdown",
   "metadata": {
    "id": "sEezCOIVwFnY"
   },
   "source": [
    "```\n",
    "File Name: marcha_2.log\n",
    "Channel 4: 'Recto Femoral', 43665 values, engineering units: mV, no filters.\n",
    "Channel 5: 'Biceps Femoral', 43665 values, engineering units: mV, no filters.\n",
    "Channel 6: 'Vasto Medial', 43665 values, engineering units: mV, no filters.\n",
    "Channel 7: 'EMG Semitendinoso', 43665 values, engineering units: mV, no filters.\n",
    "Channel 8: 'Flexo-Extension', 43665 values, engineering units: deg, no filters.\n",
    "\n",
    "0.0067\t-0.021\t0.0675\t-0.0195\t4.7\n",
    "-0.0053\t-0.0368\t0.1372\t-0.0225\t4.9\n",
    "-0.0053\t0.003\t0.1365\t-0.0143\t4.8\n",
    "-0.0046\t0.0082\t0.135\t-0.003\t4.7\n",
    "............\n",
    "```"
   ]
  }
 ],
 "metadata": {
  "colab": {
   "collapsed_sections": [],
   "name": "ex0_input_data_description.ipynb",
   "provenance": [],
   "toc_visible": true
  },
  "kernelspec": {
   "display_name": "Python 3",
   "language": "python",
   "name": "python3"
  },
  "language_info": {
   "codemirror_mode": {
    "name": "ipython",
    "version": 3
   },
   "file_extension": ".py",
   "mimetype": "text/x-python",
   "name": "python",
   "nbconvert_exporter": "python",
   "pygments_lexer": "ipython3",
   "version": "3.6.6"
  }
 },
 "nbformat": 4,
 "nbformat_minor": 0
}
